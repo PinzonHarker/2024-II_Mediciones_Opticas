{
 "cells": [
  {
   "cell_type": "code",
   "execution_count": null,
   "metadata": {},
   "outputs": [],
   "source": [
    "# Previo toca importar paquetes\n",
    "import numpy as np\n",
    "import matplotlib.pyplot as plt\n",
    "import pandas as pd\n",
    "from scipy import stats\n",
    "import uncertainties as un\n",
    "\n",
    "\n",
    "def plot_template(title, x_label, y_label, x_lim=None, y_lim=None):\n",
    "    \"\"\"Genera la plantilla para mantener consistencia en el formato\n",
    "    de cada tabla generada.\n",
    "\n",
    "    Args:\n",
    "        title (string): Aplica titulos.\n",
    "        x_label (float): Título de eje x.\n",
    "        y_label (float): Título de eje y.\n",
    "        x_lim ([float], optional): Límite en eje x. Defaults to None.\n",
    "        y_lim ([float], optional): Límite en eje y. Defaults to None.\n",
    "\n",
    "    Returns:\n",
    "        object: Devuelve los objetos de la gráfica modificados con la\n",
    "        plantilla requerida\n",
    "    \"\"\"\n",
    "    fig, ax = plt.subplots(  # Tamaño de la figura en pulgadas (ancho, alto)\n",
    "        figsize=(10, 6)\n",
    "    )\n",
    "\n",
    "    # Configuración de rótulos y unidades\n",
    "    ax.set_title(title, fontsize=16)  # Título con tamaño de fuente\n",
    "    ax.set_xlabel(x_label, fontsize=14)  # Eje x con rótulo y unidades\n",
    "    ax.set_ylabel(y_label, fontsize=14)  # Eje y con rótulo y unidades\n",
    "\n",
    "    # Configuración de la escala y las dimensiones\n",
    "    if x_lim is not None:\n",
    "        ax.set_xlim(x_lim)  # Limitar el eje x\n",
    "    if y_lim is not None:\n",
    "        ax.set_ylim(y_lim)  # Limitar el eje y\n",
    "\n",
    "    ax.grid(True, which=\"both\", linestyle=\"--\", alpha=0.7)  # Añadir una cuadrícula\n",
    "\n",
    "    fig.tight_layout()  # Ajusta los elementos para que no se solapen\n",
    "\n",
    "    return (  # Devolver las figuras y ejes para más modificaciones si es necesario\n",
    "        fig,\n",
    "        ax,\n",
    "    )\n",
    "\n",
    "\n",
    "# test\n",
    "if False:\n",
    "    x = np.linspace(0, 10, 100)\n",
    "    fig, ax = plot_template(\"This is a test\", \"X label\", \"Y label\", [0, 10], [-1, 1])\n",
    "    ax.scatter(x, [np.sin(i) for i in x], marker=\"+\", color=\"red\")"
   ]
  },
  {
   "cell_type": "markdown",
   "metadata": {},
   "source": [
    "# Práctica #2: Formación de Imagenes\n",
    "\n",
    "_Andrés Felipe Pinzón y Cristian Camilo Pérez_\n",
    "\n",
    "Universidad Nacional de Colombia\n",
    "\n",
    "Departamento de Física y Matemáticas\n"
   ]
  },
  {
   "cell_type": "markdown",
   "metadata": {},
   "source": [
    "## Tabla de Contenidos\n",
    "\n",
    "- [Introducción](#introduccion)\n",
    "- [Modelación Teórica](#modelacion_teorica)\n",
    "- [Metodología](#metodologia)\n",
    "- [Análisis y Resultados](#analisis_y_resultados)\n",
    "- [Conclusiones](#conclusiones)\n",
    "- [Referencias](#referencias)\n"
   ]
  },
  {
   "cell_type": "markdown",
   "metadata": {},
   "source": [
    "## Introducción\n"
   ]
  },
  {
   "cell_type": "markdown",
   "metadata": {},
   "source": [
    "En esta práctica experimental, se estuhiará la formación de imagenes desde la teoría de la óptica geométrica, se resolverá el sistema simple del lente convergente (positivo) estudiando los parámetros que definen el fenómeno a través del las ecuaciones que definen su comportamiento con la _ley de Gauss con la aproximación paraxial_.\n",
    "\n",
    "Además, se verá la relación de la proporción $m$ para con la posición del lente y la relación con el foco a través de la ley de Newton, y por último, estudiaremos el comportamiento con la aproximación de la lente en un punto infinito.\n"
   ]
  },
  {
   "cell_type": "markdown",
   "metadata": {},
   "source": [
    "## Modelación Teorica\n"
   ]
  },
  {
   "cell_type": "markdown",
   "metadata": {},
   "source": [
    "Se estudia la formación de imagen producida por un lente convergente (positiva) con un objeto de origen $o$ a una distancia de la lente $s_o$ y $s_i$ la distancia donde la imagen se forma, también conocido como punto conjugado de $s_o$. El estudio de las propiedades de las _lentes con aproximación delgada_ es la simplificación de la ecuación de Gauss reducida a\n",
    "\n",
    "$$\\frac{1}{f} = \\frac{1}{s_i} - \\frac{1}{s_0}$$\n",
    "\n",
    "Donde $f$ es el foco como parámetro característico de la lente en esta aproximación dada por la ecuación del fabricante de lentes\n",
    "$$\\frac{1}{f} = \\frac{(n_l - n)}{n} \\left( \\frac{1}{R_1} - \\frac{1}{R_2} \\right)$$\n",
    "Con $n$ siendo el aire.\n",
    "\n",
    "También se utilizará la distancia relativa a los diferentes focos respecto la posición del objeto y la imagen para determinar la relación de la _ley de Newton_ que establece\n",
    "$$x_o x_i = - f^2$$\n",
    "Donde $x_o$ es la distancia del foco primario al objeto y $x_i$ la distancia del foco secundario a la imagen.\n",
    "\n",
    "Además, se noratará que la proporción de la imagen respecto al objeto $m$ se define como\n",
    "$$m = \\frac{h_i}{h_o} = \\frac{s_i}{s_o}$$\n",
    "\n",
    "Utilizando la ecuación de _Newton_ se deduce\n",
    "$$m = \\frac{f}{x_o} \\qquad m = -\\frac{x_i}{f}$$\n",
    "\n",
    "Toda la información de convención de terminos pueda ser consultada en el libro de Fundamentos de Óptica (vease [Referencias](##Referencias))\n"
   ]
  },
  {
   "cell_type": "markdown",
   "metadata": {},
   "source": [
    "## Metodología\n"
   ]
  },
  {
   "cell_type": "markdown",
   "metadata": {},
   "source": [
    "### Esquema experimental\n"
   ]
  },
  {
   "cell_type": "markdown",
   "metadata": {},
   "source": [
    "Haremos uso de los siguientes dispositivos para la práctica a continuación.\n",
    "\n",
    "1. Riel con escala métrica. $\\checkmark$\n",
    "2. Lente positiva. $\\checkmark$\n",
    "3. Objeto translúcido. $\\checkmark$\n",
    "4. Pantalla para observar la imagen. $\\checkmark$\n",
    "5. Cámara fotográfica (celular). $\\checkmark$\n",
    "6. Fuente luminosa (linterna). $\\checkmark$\n",
    "7. Cinta pegante y tijeras. $\\checkmark$\n",
    "\n",
    "Se colocará una fuente de luz que iluminará nuestro objeto difusor de la luz (papel mantequilla), de aquí filtraremos la luz para reflejar una imagen de rejilla de 8x5 puntos circulares. La imagen formada a través de la lente se reflejará sobre un papel milimetrado en la que podremos ajustar la nitidez y la proporción\n"
   ]
  },
  {
   "cell_type": "markdown",
   "metadata": {},
   "source": [
    "![Esquema](esquema.png)\n"
   ]
  },
  {
   "cell_type": "markdown",
   "metadata": {},
   "source": [
    "### Procedimiento Experimental\n"
   ]
  },
  {
   "cell_type": "markdown",
   "metadata": {},
   "source": [
    "Como mediciones previas, se anoto el tamaño de los orificios verticales más distantes de la malla que funcionará como imagen en $h_o = 1.70(5) \\, \\text{cm}$. Posterior, hicimos un ejercicio para ajustar el rango de las mediciones, se abarcará entonces distancia mínima del objeto al lente de $s_{om} = 20.0(1) \\, \\text{cm}$ hasta la máxima de $s_{oM} = 50.0(1) \\, \\text{cm}$, donde se obtienen imagenes nitidas.\n",
    "\n",
    "Comenzando la práctica, realizamos la medida de la distancia del objeto ($s_o$) e imagen ($s_i$) para 10 posiciones diferentes del objeto. En cada caso, se tomaron 2 mediciones de manera alternada para un total de 4 y lograr determinamos la incertidumbre a partir de estas mediciones conjuntas. En este mismo ejercicio, anotaremos la altura de los orificios más distantes de la imagen formada con $h_i$ y determinaremos el factor de proporción $m$.\n",
    "\n",
    "Luego, escogeremos una distancia fija entre el objeto y la pantalla de la imagen, variando la posición de la lente encontraremos los 2 puntos de enfoque (imagen nítida) resultantes de aumentos recíprocos entre sí, es decir, $m$ y $1/m$.\n",
    "\n",
    "Finalmente, se realizó la medida de la distancia de la imagen cuando el objeto se coloca a una gran distancia de la lente.\n"
   ]
  },
  {
   "cell_type": "markdown",
   "metadata": {},
   "source": [
    "## Análisis y Resultados\n"
   ]
  },
  {
   "cell_type": "markdown",
   "metadata": {},
   "source": [
    "Los datos obtuvidos por la primera parte de las mediciones fueron las siguientes:\n"
   ]
  },
  {
   "cell_type": "markdown",
   "metadata": {},
   "source": [
    "Se tratan los datos para tener unas tablas que brinden información relevante del fenómeno\n"
   ]
  },
  {
   "cell_type": "markdown",
   "metadata": {},
   "source": [
    "### Tratamiento de datos\n"
   ]
  },
  {
   "cell_type": "markdown",
   "metadata": {},
   "source": [
    "Medidas directas:\n",
    "\n",
    "- `ho`: Altura del objeto inicial $h_o = 17(1) \\, \\text{mm}$\n",
    "- `O` : Posición de la lente respecto escala $O = 700(1) \\, \\text{mm}$\n",
    "- `do` : Posición del objeto respecto escala $d_o$ ($\\pm 1\\, \\text{mm}$).\n",
    "- `di` : Posición de la imagen respecto escala $d_i$ ($\\pm 1\\, \\text{mm}$).\n",
    "\n",
    "Medidas indirectas:\n",
    "\n",
    "- `so` : Posición del objeto respecto la lente $s_o$ ($\\pm 2\\, \\text{mm}$).\n",
    "- `si` : Posición de la imagen respecto la lente $s_i$ ($\\pm 2\\, \\text{mm}$).\n",
    "\n",
    "La propagación del error viene dada por la incertidumbre sistemática que se calcula como\n",
    "\n",
    "$$\n",
    "\\sigma(g) = \\left| \\frac{\\partial f}{\\partial x} \\right| \\sigma(x) + \\left| \\frac{\\partial f}{\\partial z} \\right| \\sigma(z)\n",
    "$$\n"
   ]
  },
  {
   "cell_type": "code",
   "execution_count": 4,
   "metadata": {},
   "outputs": [],
   "source": [
    "# Datos\n",
    "nominal_s = 2  # mm\n",
    "nominal_h = 1  # mm\n",
    "\n",
    "ho = 17  # \\pm 0.5mm\n",
    "O = 700  # \\pm 1mm\n",
    "do = np.array([500, 470, 440, 410, 380, 350, 320, 290, 260, 230, 480])  # 1mm\n",
    "di = np.array(\n",
    "    [\n",
    "        [1190, 1190, 1185, 1196],\n",
    "        [1090, 1086, 1088, 1083],\n",
    "        [1035, 1025, 1031, 1037],\n",
    "        [996, 1003, 998, 1005],\n",
    "        [976, 972, 973, 970],\n",
    "        [959, 955, 954, 952],\n",
    "        [944, 940, 939, 944],\n",
    "        [931, 937, 930, 929],\n",
    "        [925, 920, 923, 925],\n",
    "        [914, 912, 915, 915],\n",
    "        [1119, 1117, 1113, 1114],\n",
    "    ]\n",
    ")\n",
    "hi = np.array(\n",
    "    [\n",
    "        [39, 39, 39.5, 39],\n",
    "        [26.50, 26.50, 27.0, 27.5],\n",
    "        [21.0, 21.0, 21.0, 21.0],\n",
    "        [16.0, 17.0, 16.0, 17.0],\n",
    "        [14.0, 14.0, 14.0, 14.0],\n",
    "        [11.0, 12.0, 12.0, 12.0],\n",
    "        [10, 10, 10, 11],\n",
    "        [9, 9, 9, 9],\n",
    "        [8, 8, 8, 8],\n",
    "        [7.5, 8, 8, 0.8],\n",
    "        [29.0, 30.0, 31.0, 30.0],\n",
    "    ]\n",
    ")\n",
    "\n",
    "# Parámetros\n",
    "mediciones, repeticiones = di.shape\n",
    "so = O - do\n",
    "si = di - O\n",
    "\n",
    "# Comprobaciones\n",
    "if False:\n",
    "    rows_di, cols_di = di.shape\n",
    "    rows_hi, cols_hi = hi.shape\n",
    "    print(rows_di, cols_di)\n",
    "    print(rows_hi, cols_hi)\n",
    "    print(len(si))"
   ]
  },
  {
   "cell_type": "code",
   "execution_count": 6,
   "metadata": {},
   "outputs": [],
   "source": [
    "# Calcular promedios de si y hi\n",
    "si_mean = np.array([np.mean(row) for row in si])\n",
    "si_uncertain = np.array([np.std(row) / np.sqrt(repeticiones) for row in si])\n",
    "hi_mean = np.array([np.mean(row) for row in hi])\n",
    "hi_uncertain = np.array([np.std(row) / np.sqrt(repeticiones) for row in hi])\n",
    "\n",
    "# Incertidumbre real (respecto la estadística y la nominal)\n",
    "si_uncertain = np.sqrt(si_uncertain**2 + nominal_s**2)\n",
    "hi_uncertain = np.sqrt(hi_uncertain**2 + nominal_h**2)\n",
    "\n",
    "\n",
    "# Comprobaciones\n",
    "if False:\n",
    "    print(len(hi_mean), len(hi_uncertain))\n",
    "    print(\n",
    "        *[f\"{si_mean[i]:.0f} - {si_uncertain[i]:1.0f}\" for i in range(len(si_mean))],\n",
    "        sep=\"\\n\",\n",
    "    )"
   ]
  },
  {
   "cell_type": "code",
   "execution_count": null,
   "metadata": {},
   "outputs": [
    {
     "name": "stdout",
     "output_type": "stream",
     "text": [
      "\n",
      "Pendiente 1.10 ± 0.02\n",
      "Correlación 0.999\n",
      "foco f= (139.4 +- 1.1) mm\n",
      "\n"
     ]
    },
    {
     "data": {
      "image/png": "[encoded data removed]",
      "text/plain": [
       "<Figure size 1000x600 with 1 Axes>"
      ]
     },
     "metadata": {},
     "output_type": "display_data"
    }
   ],
   "source": [
    "# inversos\n",
    "x_vals = -1 / si_mean\n",
    "u_x_vals = si_uncertain / si_mean**2\n",
    "y_vals = 1 / so\n",
    "u_y_vals = nominal_s / so**2\n",
    "\n",
    "# Plottting\n",
    "fig, ax = plot_template(\n",
    "    title=\"Formación de Imagenes\",\n",
    "    x_label=\"Inverso $s_i$ (1/mm)\",\n",
    "    y_label=\"Inverso $s_o$ (1/mm)\",\n",
    "    # x_lim=[0.002, 0.005]\n",
    ")\n",
    "# errores\n",
    "ax.errorbar(\n",
    "    x_vals,\n",
    "    y_vals,\n",
    "    xerr=u_x_vals,\n",
    "    yerr=u_y_vals,\n",
    "    linestyle=\"none\",\n",
    "    color=\"blue\",\n",
    "    capsize=1,\n",
    "    capthick=1,\n",
    "    lw=0.4,\n",
    "    label=\"Incertidumbre\",\n",
    ")\n",
    "# datos\n",
    "ax.scatter(x_vals, y_vals, marker=\".\", lw=0.1, color=\"black\", label=\"Mediciones\")\n",
    "# regresion\n",
    "r = stats.linregress(x_vals, y_vals)\n",
    "slope, intercept, slope_err, intercept_err = (\n",
    "    r.slope,\n",
    "    r.intercept,\n",
    "    r.stderr,\n",
    "    r.intercept_stderr,\n",
    ")\n",
    "plt.axline(\n",
    "    xy1=(\n",
    "        x_vals[0],\n",
    "        x_vals[0] * slope + intercept,\n",
    "    ),  # para que no toque regular los límites\n",
    "    slope=slope,\n",
    "    color=\"r\",\n",
    "    linestyle=\"--\",\n",
    "    label=f\"Pendiente: {slope:.2f} ± {slope_err:.2f}\",\n",
    ")\n",
    "\n",
    "print(\n",
    "    f\"\"\"\n",
    "Pendiente {slope:.2f} ± {slope_err:.2f}\n",
    "Correlación {r.rvalue:.3f}\n",
    "foco f= ({1 / intercept:.1f} +- {intercept_err / intercept**2:.1f}) mm\n",
    "\"\"\"\n",
    ")\n",
    "\n",
    "\n",
    "ax.legend(fontsize=16)\n",
    "plt.show()"
   ]
  },
  {
   "cell_type": "markdown",
   "metadata": {},
   "source": [
    "De esto, se deduce que el foco debe tener un valor de\n"
   ]
  },
  {
   "cell_type": "markdown",
   "metadata": {},
   "source": [
    "#### opcional\n"
   ]
  },
  {
   "cell_type": "code",
   "execution_count": null,
   "metadata": {},
   "outputs": [],
   "source": [
    "# Crear el DataFrame\n",
    "df = pd.DataFrame(\n",
    "    {\n",
    "        \"so (mm)\": so,\n",
    "        \"Promedio si (mm)\": si_mean,\n",
    "        \"Incertidumbre si (mm)\": si_uncertain,\n",
    "        \"Promedio hi (mm)\": hi_mean,\n",
    "        \"Incertidumbre hi (mm)\": hi_uncertain,\n",
    "    }\n",
    ")\n",
    "\n",
    "# comprobar\n",
    "if False:\n",
    "    print(df)"
   ]
  },
  {
   "cell_type": "markdown",
   "metadata": {},
   "source": [
    "# Parte 3\n",
    "\n",
    "# Magnificacion m\n",
    "\n",
    "so = 50\n",
    "si = 120\n",
    "\n",
    "OM = [(696,697,695,698)]\n",
    "\n",
    "# magnificacion 1/m\n",
    "\n",
    "Om = [(983,987,986, 983)]\n"
   ]
  },
  {
   "cell_type": "markdown",
   "metadata": {},
   "source": [
    "# Parte final\n",
    "\n",
    "O = 98\n",
    "\n",
    "si = [1143, 1148, 1146, 1148,1144, 1142,1142, 1145,1146,1144s]\n"
   ]
  },
  {
   "cell_type": "markdown",
   "metadata": {},
   "source": [
    "## Conclusiones\n"
   ]
  },
  {
   "cell_type": "markdown",
   "metadata": {},
   "source": [
    "## Referencias\n",
    "\n",
    "Mejía Barbosa, Y. (2020). Fundamentos de óptica : Curso introductorio. Universidad Nacional de Colombia. Facultad de Ciencias.\n"
   ]
  }
 ],
 "metadata": {
  "kernelspec": {
   "display_name": "base",
   "language": "python",
   "name": "python3"
  },
  "language_info": {
   "codemirror_mode": {
    "name": "ipython",
    "version": 3
   },
   "file_extension": ".py",
   "mimetype": "text/x-python",
   "name": "python",
   "nbconvert_exporter": "python",
   "pygments_lexer": "ipython3",
   "version": "3.12.4"
  }
 },
 "nbformat": 4,
 "nbformat_minor": 2
}
