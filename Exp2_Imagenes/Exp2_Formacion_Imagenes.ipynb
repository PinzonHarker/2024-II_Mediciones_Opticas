{
 "cells": [
  {
   "cell_type": "code",
   "execution_count": null,
   "metadata": {},
   "outputs": [],
   "source": [
    "# Previo toca importar paquetes\n",
    "import numpy as np\n",
    "import matplotlib.pyplot as plt\n",
    "import pandas as pd\n",
    "from scipy import stats\n",
    "from uncertainties import ufloat"
   ]
  },
  {
   "cell_type": "markdown",
   "metadata": {},
   "source": [
    "# Práctica #2: Formación de Imagenes\n",
    "\n",
    "_Andrés Felipe Pinzón y Cristian Camilo Pérez_\n",
    "\n",
    "Universidad Nacional de Colombia\n",
    "\n",
    "Departamento de Física y Matemáticas\n"
   ]
  },
  {
   "cell_type": "markdown",
   "metadata": {},
   "source": [
    "## Tabla de Contenidos\n",
    "\n",
    "- [Introducción](#introduccion)\n",
    "- [Modelación Teórica](#modelacion_teorica)\n",
    "- [Metodología](#metodologia)\n",
    "- [Análisis y Resultados](#analisis_y_resultados)\n",
    "- [Conclusiones](#conclusiones)\n",
    "- [Referencias](#referencias)\n"
   ]
  },
  {
   "cell_type": "markdown",
   "metadata": {},
   "source": [
    "## Introducción\n"
   ]
  },
  {
   "cell_type": "markdown",
   "metadata": {},
   "source": [
    "En esta práctica experimental, se estudiará la formación de imagenes desde la teoría de la óptica geométrica, se resolverá el sistema simple del lente convergente (positivo) estudiando los parámetros que definen el fenómeno a través del las ecuaciones que definen su comportamiento con la _ley de Gauss con la aproximación paraxial_.\n",
    "\n",
    "Además, se verá la relación de la proporción $m$ para con la posición del lente y la relación con el foco a través de la ley de Newton, y por último, estudiaremos el comportamiento con la aproximación de la lente en un punto infinito.\n"
   ]
  },
  {
   "cell_type": "markdown",
   "metadata": {},
   "source": [
    "## Modelación Teorica\n"
   ]
  },
  {
   "cell_type": "markdown",
   "metadata": {},
   "source": [
    "Se estudia la formación de imagen producida por un lente convergente (positiva) con un objeto de origen $o$ a una distancia de la lente $s_o$ y $s_i$ la distancia donde la imagen se forma, también conocido como punto conjugado de $s_o$. El estudio de las propiedades de las _lentes con aproximación delgada_ es la simplificación de la ecuación de Gauss reducida a\n",
    "\n",
    "$$\\frac{1}{f} = \\frac{1}{s_i} - \\frac{1}{s_0}$$\n",
    "\n",
    "Donde $f$ es el foco como parámetro característico de la lente en esta aproximación dada por la ecuación del fabricante de lentes\n",
    "$$\\frac{1}{f} = \\frac{(n_l - n)}{n} \\left( \\frac{1}{R_1} - \\frac{1}{R_2} \\right)$$\n",
    "Con $n$ siendo el aire.\n",
    "\n",
    "También se utilizará la distancia relativa a los diferentes focos respecto la posición del objeto y la imagen para determinar la relación de la _ley de Newton_ que establece\n",
    "$$x_o x_i = - f^2$$\n",
    "Donde $x_o$ es la distancia del foco primario al objeto y $x_i$ la distancia del foco secundario a la imagen.\n",
    "\n",
    "Además, se noratará que la proporción de la imagen respecto al objeto $m$ se define como\n",
    "$$m = \\frac{h_i}{h_o} = \\frac{s_i}{s_o}$$\n",
    "\n",
    "Utilizando la ecuación de _Newton_ se deduce\n",
    "$$m = \\frac{f}{x_o} \\qquad m = -\\frac{x_i}{f}$$\n",
    "\n",
    "Toda la información de convención de terminos pueda ser consultada en el libro de Fundamentos de Óptica (vease [Referencias](##Referencias))\n"
   ]
  },
  {
   "cell_type": "markdown",
   "metadata": {},
   "source": [
    "## Metodología\n"
   ]
  },
  {
   "cell_type": "markdown",
   "metadata": {},
   "source": [
    "### Esquema experimental\n"
   ]
  },
  {
   "cell_type": "markdown",
   "metadata": {},
   "source": [
    "Haremos uso de los siguientes dispositivos para la práctica a continuación.\n",
    "\n",
    "1. Riel con escala métrica. $\\checkmark$\n",
    "2. Lente positiva. $\\checkmark$\n",
    "3. Objeto translúcido. $\\checkmark$\n",
    "4. Pantalla para observar la imagen. $\\checkmark$\n",
    "5. Cámara fotográfica (celular). $\\checkmark$\n",
    "6. Fuente luminosa (linterna). $\\checkmark$\n",
    "7. Cinta pegante y tijeras. $\\checkmark$\n",
    "\n",
    "Se colocará una fuente de luz que iluminará nuestro objeto difusor de la luz (papel mantequilla), de aquí filtraremos la luz para reflejar una imagen de rejilla de 8x5 puntos circulares. La imagen formada a través de la lente se reflejará sobre un papel milimetrado en la que podremos ajustar la nitidez y la proporción\n"
   ]
  },
  {
   "cell_type": "markdown",
   "metadata": {},
   "source": [
    "![Esquema](esquema.png)\n"
   ]
  },
  {
   "cell_type": "markdown",
   "metadata": {},
   "source": [
    "### Procedimiento Experimental\n"
   ]
  },
  {
   "cell_type": "markdown",
   "metadata": {},
   "source": [
    "Como mediciones previas, se anoto el tamaño de los orificios verticales más distantes de la malla que funcionará como imagen en $h_o = 1.70(5) \\, \\text{cm}$. Posterior, hicimos un ejercicio para ajustar el rango de las mediciones, se abarcará entonces distancia mínima del objeto al lente de $s_{om} = 20.0(1) \\, \\text{cm}$ hasta la máxima de $s_{oM} = 50.0(1) \\, \\text{cm}$, donde se obtienen imagenes nitidas.\n",
    "\n",
    "Comenzando la práctica, realizamos la medida de la distancia del objeto (\\(s_o\\)) e imagen (\\(s_i\\)) para 10 posiciones diferentes del objeto. En cada caso, se tomaron 2 mediciones de manera alternada para un total de 4 y lograr determinamos la incertidumbre a partir de estas mediciones conjuntas. En este mismo ejercicio, anotaremos la altura de los orificios más distantes de la imagen formada con $h_i$ y determinaremos el factor de proporción $m$.\n",
    "\n",
    "Luego, escogeremos una distancia fija entre el objeto y la pantalla de la imagen, variando la posición de la lente encontraremos los 2 puntos de enfoque (imagen nítida) resultantes de aumentos recíprocos entre sí, es decir, \\(m\\) y \\(1/m\\).\n",
    "\n",
    "Finalmente, se realizó la medida de la distancia de la imagen cuando el objeto se coloca a una gran distancia de la lente.\n"
   ]
  },
  {
   "cell_type": "markdown",
   "metadata": {},
   "source": [
    "## Análisis y Resultados\n"
   ]
  },
  {
   "cell_type": "markdown",
   "metadata": {},
   "source": [
    "## Conclusiones\n"
   ]
  },
  {
   "cell_type": "code",
   "execution_count": null,
   "metadata": {},
   "outputs": [],
   "source": [
    "ho = 17  # \\pm 0.5mm\n",
    "\n",
    "O = 700  # \\pm 1mm\n",
    "\n",
    "\n",
    "so = np.array([500, 470, 440, 410, 380, 350, 320, 290, 260, 480])  # 1mm\n",
    "si = [\n",
    "    (1190, 1190, 1185, 1196),\n",
    "    (1090, 1086, 1088, 1083),\n",
    "    (1035, 1025, 1031, 1037),\n",
    "    (996, 1003, 998, 1005),\n",
    "    (976, 972, 973, 970),\n",
    "    (959, 955, 954, 952),\n",
    "    (944, 940, 939, 944),\n",
    "    (931, 937, 930, 929),\n",
    "    (925, 920, 923, 925),\n",
    "    (914, 912, 915, 915),\n",
    "    (1119, 1117, 1113, 1114),\n",
    "]  # 1mm\n",
    "hi = [\n",
    "    (39, 40, 39, 39, 39.5),\n",
    "    (26.50, 26.50, 27.0, 27.5),\n",
    "    (21.0, 21.0, 21.0, 21.0),\n",
    "    (16.0, 17.0, 16.0, 17.0),\n",
    "    (14.0, 14.0, 14.0, 14.0),\n",
    "    (11.0, 12.0, 12.0, 12.0),\n",
    "    (10, 10, 10, 11),\n",
    "    (9, 9, 9, 9),\n",
    "    (8, 8, 8, 8),\n",
    "    (7.5, 8, 8, 0.8),\n",
    "    (29.0, 30.0, 31.0, 30.0),\n",
    "]  # \\pm 1"
   ]
  },
  {
   "cell_type": "code",
   "execution_count": 37,
   "metadata": {},
   "outputs": [
    {
     "name": "stdout",
     "output_type": "stream",
     "text": [
      "[0.002      0.00212766 0.00227273 0.00243902 0.00263158 0.00285714\n",
      " 0.003125   0.00344828 0.00384615]\n",
      "[0.00084016 0.00092017 0.00096899 0.0009995  0.00102801 0.00104712\n",
      " 0.00106185 0.00107325 0.00108108]\n"
     ]
    },
    {
     "data": {
      "image/png": "[encoded data removed]",
      "text/plain": [
       "<Figure size 640x480 with 1 Axes>"
      ]
     },
     "metadata": {},
     "output_type": "display_data"
    },
    {
     "data": {
      "text/plain": [
       "<Figure size 640x480 with 0 Axes>"
      ]
     },
     "metadata": {},
     "output_type": "display_data"
    }
   ],
   "source": [
    "msi = np.array([np.mean(i) for i in si])\n",
    "\n",
    "## Plo 1/so vs 1/si\n",
    "\n",
    "print(1 / so)\n",
    "print(1 / msi)\n",
    "\n",
    "\n",
    "1.0 / msi\n",
    "plt.plot(1 / so, 1 / msi, \"*\")\n",
    "plt.figure()\n",
    "\n",
    "\n",
    "# linear regresion\n",
    "\n",
    "stast = st.linregress(1.0 / so, 1.0 / msi)"
   ]
  },
  {
   "cell_type": "markdown",
   "metadata": {},
   "source": [
    "# Parte 3\n",
    "\n",
    "# Magnificacion m\n",
    "\n",
    "so = 50\n",
    "si = 120\n",
    "\n",
    "OM = [(696,697,695,698)]\n",
    "\n",
    "# magnificacion 1/m\n",
    "\n",
    "Om = [(983,987,986, 983)]\n"
   ]
  },
  {
   "cell_type": "markdown",
   "metadata": {},
   "source": [
    "# Parte final\n",
    "\n",
    "O = 98\n",
    "\n",
    "si = [1143, 1148, 1146, 1148,1144, 1142,1142, 1145,1146,1144s]\n"
   ]
  },
  {
   "cell_type": "markdown",
   "metadata": {},
   "source": [
    "## Referencias\n",
    "\n",
    "Mejía Barbosa, Y. (2020). Fundamentos de óptica : Curso introductorio. Universidad Nacional de Colombia. Facultad de Ciencias.\n"
   ]
  }
 ],
 "metadata": {
  "kernelspec": {
   "display_name": "base",
   "language": "python",
   "name": "python3"
  },
  "language_info": {
   "codemirror_mode": {
    "name": "ipython",
    "version": 3
   },
   "file_extension": ".py",
   "mimetype": "text/x-python",
   "name": "python",
   "nbconvert_exporter": "python",
   "pygments_lexer": "ipython3",
   "version": "3.12.4"
  }
 },
 "nbformat": 4,
 "nbformat_minor": 2
}
