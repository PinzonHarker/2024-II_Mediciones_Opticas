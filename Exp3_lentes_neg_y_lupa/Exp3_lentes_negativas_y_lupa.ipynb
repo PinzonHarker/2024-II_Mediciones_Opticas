{
 "cells": [
  {
   "cell_type": "markdown",
   "metadata": {},
   "source": [
    "## Instalación de librerías\n"
   ]
  },
  {
   "cell_type": "code",
   "execution_count": null,
   "metadata": {},
   "outputs": [],
   "source": [
    "import subprocess\n",
    "import sys\n",
    "\n",
    "# Lista de paquetes necesarios\n",
    "paquetes = [\n",
    "    \"numpy\",\n",
    "    \"matplotlib\",\n",
    "    \"pandas\",\n",
    "    \"scipy\",\n",
    "    \"uncertainties\",\n",
    "]\n",
    "\n",
    "\n",
    "# Función para instalar paquetes condicionalmente\n",
    "def instalar_paquete(paquete):\n",
    "    try:\n",
    "        __import__(paquete)\n",
    "        print(f\"✅ El paquete '{paquete}' ya está instalado.\")\n",
    "    except ImportError:\n",
    "        print(f\"⚠️ El paquete '{paquete}' no está instalado. Instalando...\")\n",
    "        subprocess.check_call([sys.executable, \"-m\", \"pip\", \"install\", paquete])\n",
    "        print(f\"✅ Paquete '{paquete}' instalado con éxito.\")\n",
    "\n",
    "\n",
    "# Instalar cada paquete de la lista\n",
    "for paquete in paquetes:\n",
    "    instalar_paquete(paquete)"
   ]
  },
  {
   "cell_type": "code",
   "execution_count": null,
   "metadata": {},
   "outputs": [],
   "source": [
    "# Previo toca importar paquetes\n",
    "import numpy as np\n",
    "import matplotlib.pyplot as plt\n",
    "import pandas as pd\n",
    "from scipy import stats\n",
    "from scipy.optimize import curve_fit\n",
    "from scipy.interpolate import BSpline as Bspline\n",
    "from scipy.interpolate import splrep\n",
    "from scipy.optimize import root_scalar\n",
    "import uncertainties as unc\n",
    "import uncertainties.unumpy as unp\n",
    "from uncertainties import ufloat\n",
    "\n",
    "\n",
    "def plot_template(title, x_label, y_label, x_lim=None, y_lim=None):\n",
    "    \"\"\"Genera la plantilla para mantener consistencia en el formato\n",
    "    de cada tabla generada.\n",
    "\n",
    "    Args:\n",
    "        title (string): Aplica titulos.\n",
    "        x_label (float): Título de eje x.\n",
    "        y_label (float): Título de eje y.\n",
    "        x_lim ([float], optional): Límite en eje x. Defaults to None.\n",
    "        y_lim ([float], optional): Límite en eje y. Defaults to None.\n",
    "\n",
    "    Returns:\n",
    "        object: Devuelve los objetos de la gráfica modificados con la\n",
    "        plantilla requerida\n",
    "    \"\"\"\n",
    "    fig, ax = plt.subplots(  # Tamaño de la figura en pulgadas (ancho, alto)\n",
    "        figsize=(10, 6)\n",
    "    )\n",
    "\n",
    "    # Configuración de rótulos y unidades\n",
    "    ax.set_title(title, fontsize=18)  # Título con tamaño de fuente\n",
    "    ax.set_xlabel(x_label, fontsize=16)  # Eje x con rótulo y unidades\n",
    "    ax.set_ylabel(y_label, fontsize=16)  # Eje y con rótulo y unidades\n",
    "\n",
    "    # Configuración de la escala y las dimensiones\n",
    "    if x_lim is not None:\n",
    "        ax.set_xlim(x_lim)  # Limitar el eje x\n",
    "    if y_lim is not None:\n",
    "        ax.set_ylim(y_lim)  # Limitar el eje y\n",
    "\n",
    "    ax.grid(True, which=\"both\", linestyle=\"--\", alpha=0.7)  # Añadir una cuadrícula\n",
    "\n",
    "    fig.tight_layout()  # Ajusta los elementos para que no se solapen\n",
    "\n",
    "    return (  # Devolver las figuras y ejes para más modificaciones si es necesario\n",
    "        fig,\n",
    "        ax,\n",
    "    )\n",
    "\n",
    "\n",
    "# test\n",
    "if False:\n",
    "    x = np.linspace(0, 10, 100)\n",
    "    fig, ax = plot_template(\"This is a test\", \"X label\", \"Y label\", [0, 10], [-1, 1])\n",
    "    ax.scatter(x, [np.sin(i) for i in x], marker=\"+\", color=\"red\")"
   ]
  },
  {
   "cell_type": "markdown",
   "metadata": {},
   "source": [
    "# Práctica #2: Formación de Imagenes\n",
    "\n",
    "_Andrés Felipe Pinzón y Cristian Camilo Pérez_\n",
    "\n",
    "Universidad Nacional de Colombia\n",
    "\n",
    "Departamento de Física y Matemáticas\n"
   ]
  },
  {
   "cell_type": "markdown",
   "metadata": {},
   "source": [
    "## Tabla de Contenidos\n",
    "\n",
    "- [Introducción](#Introducción)\n",
    "- [Modelación Teórica](#modelacion_teorica)\n",
    "- [Metodología](#metodologia)\n",
    "- [Análisis y Resultados](#analisis_y_resultados)\n",
    "- [Conclusiones](#conclusiones)\n",
    "- [Referencias](#referencias)\n"
   ]
  },
  {
   "cell_type": "markdown",
   "metadata": {},
   "source": [
    "## Introducción\n"
   ]
  },
  {
   "cell_type": "markdown",
   "metadata": {},
   "source": [
    "En esta práctica experimental, se explora el comportamiento de las lentes negativas, comportamiento de la lente positiva en su imagen virtual y como una lupa. A diferencia de las lentes positivas, que convergen los rayos de luz para formar imágenes reales, las lentes negativas divergen los rayos de luz, lo que resulta en la formación de imágenes virtuales. Este comportamiento de las lentes negativas resulta en una dificultad para caracterizar los parámetros del mismo\n",
    "\n",
    "En este laboratorio, se construyó un montaje que permite medir la distancia focal $f_-$ de una lente negativa utilizando una lente positiva auxiliar con foco conocido $f_a$, como también encontrar el foco de un sistema de una lente positiva $f_+$ cuando se forma una imagen virtual usando nuevamente una lente positiva auxiliar. Por ultimo se analiza el aumento $m$ producido por una lente positiva cuando se usa como _lupa_.\n"
   ]
  },
  {
   "cell_type": "markdown",
   "metadata": {},
   "source": [
    "## Modelación teórica\n"
   ]
  },
  {
   "cell_type": "markdown",
   "metadata": {},
   "source": [
    "### Lente divergente\n"
   ]
  },
  {
   "cell_type": "markdown",
   "metadata": {},
   "source": [
    "Para determinar la distancia focal $f_-$ de una lente negativa empleando una lente positiva auxiliar de distancia focal conocida $f_+$, se considera un sistema de dos lentes separadas por una distancia $d$.\n",
    "\n",
    "Para esto usaremos ecuaciones de la generales de la óptica geométrica como **Ley de Gauss**:\n",
    "\n",
    "$$\n",
    "\\frac{1}{f} = \\frac{1}{s_i} - \\frac{1}{s_o}\n",
    "$$\n",
    "\n",
    "<!-- Además, al combinar una lente negativa con una positiva, es posible determinar la distancia focal de la lente negativa empleando una lente positiva de distancia focal conocida. El sistema de dos lentes permite la formación de imágenes intermedias que sirven como objetos para la segunda lente, facilitando así el análisis y la medición precisa de las distancias focales involucradas. -->\n",
    "\n",
    "Y la ecuación de **aumento transversal**:\n",
    "\n",
    "$$\n",
    "m_t = \\frac{h_i}{h_o} = \\frac{s_i}{s_o}\n",
    "$$\n"
   ]
  },
  {
   "cell_type": "markdown",
   "metadata": {},
   "source": [
    "### Sistema de Dos Lentes\n",
    "\n",
    "Haciendo uso de la representación con Geogebra de un sistema de dos lentes (negativa-positiva), realizada por David Matellano:\n"
   ]
  },
  {
   "cell_type": "code",
   "execution_count": 93,
   "metadata": {},
   "outputs": [
    {
     "data": {
      "text/html": [
       "\n",
       "        <iframe\n",
       "            width=\"1000\"\n",
       "            height=\"700\"\n",
       "            src=\"https://www.geogebra.org/classic/m7gnccjz\"\n",
       "            frameborder=\"0\"\n",
       "            allowfullscreen\n",
       "            \n",
       "        ></iframe>\n",
       "        "
      ],
      "text/plain": [
       "<IPython.lib.display.IFrame at 0x232fcb44b00>"
      ]
     },
     "execution_count": 93,
     "metadata": {},
     "output_type": "execute_result"
    }
   ],
   "source": [
    "from IPython.display import IFrame\n",
    "\n",
    "# URL del recurso de GeoGebra\n",
    "geogebra_url = \"https://www.geogebra.org/classic/m7gnccjz\"\n",
    "\n",
    "# Incrustar el applet en el cuaderno\n",
    "IFrame(src=geogebra_url, width=1000, height=700)"
   ]
  },
  {
   "cell_type": "markdown",
   "metadata": {},
   "source": [
    "Utilizaremos la ecuación de Gauss para determinar el sistema compuesto. Primero se indican las ecuaciones básicas.\n",
    "**Primera Lente (Negativa):**\n",
    "\n",
    "$$\n",
    "\\frac{1}{f_-} = \\frac{1}{s_{i_-}} - \\frac{1}{s_o}\n",
    "$$\n",
    "\n",
    "Donde:\n",
    "\n",
    "- $s_o$: Distancia del objeto a la lente negativa.\n",
    "- $s_{i_-}$: Distancia de la imagen formada por la lente negativa.\n",
    "\n",
    "**Segunda Lente (Positiva):**\n",
    "\n",
    "$$\n",
    "\\frac{1}{f_+} = \\frac{1}{s_{i_+}} - \\frac{1}{s_{o_+}}\n",
    "$$\n",
    "\n",
    "Donde:\n",
    "\n",
    "- $s_{o_+} = -d + s_{i_-}$: Distancia del objeto para la lente positiva (imagen de la lente negativa).\n",
    "- $s_{i_+}$: Distancia de la imagen final del sistema.\n",
    "\n",
    "Despejando $s_{i_-} = d + s_{o_+}$ y sustituyendo $s_{i_-}$ en la ecuación de la primera lente:\n",
    "\n",
    "$$\n",
    "\\frac{1}{f_-} = \\frac{1}{d + s_{o_+}} - \\frac{1}{s_o}\n",
    "$$\n",
    "\n",
    "Despejando $s_{o_+}$ de la segunda ecuación:\n",
    "\n",
    "$$\n",
    "s_{o_+} = \\frac{f_+ s_{i_{+}}}{-s_{i_+} + f_+}\n",
    "$$\n",
    "\n",
    "Sustituyendo $s_{i_-}$ en la ecuación de la primera lente:\n",
    "\n",
    "$$\n",
    "\\frac{1}{f_-} = \\frac{1}{d + \\left(\\frac{f_+ s_{i_{+}}}{-s_{i_+} + f_+}\\right)} - \\frac{1}{s_o}\n",
    "$$\n"
   ]
  },
  {
   "cell_type": "markdown",
   "metadata": {},
   "source": [
    "### Linealización para Regresión\n"
   ]
  },
  {
   "cell_type": "markdown",
   "metadata": {},
   "source": [
    "Reorganizando las ecuaciones para obtener una relación lineal entre $\\frac{1}{s_{i_+}}$ y $\\frac{1}{s_o}$:\n",
    "\n",
    "$$\n",
    "\\begin{align}\n",
    "\\frac{1}{s_{o}} &= \\frac{1}{d +\\left(\\frac{f_+ s_{i_{+}}}{-s_{i_+} + f_+}\\right)} - \\frac{1}{f_-} \\\\\n",
    "&= \\frac{-s_{i_+}+f_+}{d (f_+-s_{i_+})+f s_{i_+}}-\\frac{1}{{f_-}}\n",
    "\\end{align}\n",
    "$$\n",
    "\n",
    "Luego se obtiene la relación lineal:\n",
    "\n",
    "$$\n",
    "y = \\frac{1}{s_{o}} \\quad \\text{vs.} \\quad x = \\frac{f_+ - s_{i_+}}{d (f_+-s_{i_+})+f s_{i_+}}\n",
    "$$\n",
    "\n",
    "entonces:\n",
    "\n",
    "$$\n",
    "m = 1  \\quad \\text{y} \\quad b = -\\frac{1}{f_-}\n",
    "$$\n",
    "\n",
    "Esta relación permite realizar una regresión lineal con los datos experimentales de $s_o$ y $s_{i_+}$ para determinar $f_-$. Si además se cambia $f_-$ por $f_+'$,donde $f_+'$ es la distancia focal de la lente positiva que genera la imagen virtual, se puede determinar la distancia focal de la lente positiva $f_+'$, como se vio en el anterior sistema.\n"
   ]
  },
  {
   "cell_type": "markdown",
   "metadata": {},
   "source": [
    "## Análisis y Resultados\n"
   ]
  },
  {
   "cell_type": "markdown",
   "metadata": {},
   "source": [
    "se tratan los datos para tener unas tablas que brinden información relevante del fenómeno\n"
   ]
  },
  {
   "cell_type": "markdown",
   "metadata": {},
   "source": [
    "### Tratamiento de datos\n"
   ]
  },
  {
   "cell_type": "markdown",
   "metadata": {},
   "source": [
    "## Tratamiento de Datos\n",
    "\n",
    "Se describen las variables que se van a tratar. Todos los datos que contengan una incertidumbre, usualmente se notarán con un `u_` al principio.\n",
    "\n",
    "### Medidas Directas\n",
    "\n",
    "- `Op`: Posición de la lente positiva auxiliar $O_p = 60.0 \\pm 0.2 \\, \\text{cm}$\n",
    "- `Op'`: Posición de la lente positiva principal $L_G = 71.0 \\pm 0.2 \\, \\text{cm}$\n",
    "- `Om`: Posición de la lente negativa $L_N = 102.0 \\pm 0.2 \\, \\text{cm}$\n",
    "- `p_o`: Posición del objeto en la regla.\n",
    "- `p_i`: Posición de la imagen en la regla.\n",
    "- `s_o`: Distancia del objeto a la lente negativa $s_o$\n",
    "- `s_i`: Distancia de la imagen a la lente positiva $s_i$\n",
    "- `hi`: Altura de la imagen $h_i$\n",
    "\n",
    "### Medidas Indirectas\n",
    "\n",
    "- `f_neg`: Distancia focal de la lente negativa $f_-$ (desconocida)\n",
    "- `m_t`: Aumento transversal $m_t = \\frac{h_i}{h_o}$ (donde $h_o = 5.0 \\, \\text{mm} \\pm 0.1 \\, \\text{mm}$)\n",
    "- `m_a`: Aumento angular $m_a = \\frac{\\theta_i}{\\theta_o}$\n",
    "\n",
    "### Propagación de Incertidumbres\n",
    "\n",
    "La propagación del error viene dada por la incertidumbre sistemática que se calcula como:\n",
    "\n",
    "$$\n",
    "\\sigma(g) = \\left| \\frac{\\partial f}{\\partial x} \\right| \\sigma(x) + \\left| \\frac{\\partial f}{\\partial z} \\right| \\sigma(z)\n",
    "$$\n",
    "\n",
    "Y la propagación estadística como es usual:\n",
    "\n",
    "$$\n",
    "\\sigma^2(f) = \\left( \\frac{\\partial f}{\\partial x} \\right)^2 \\sigma^2(x) + \\left( \\frac{\\partial f}{\\partial z} \\right)^2 \\sigma^2(z)\n",
    "$$\n"
   ]
  },
  {
   "cell_type": "markdown",
   "metadata": {},
   "source": [
    "# Cuestionario"
   ]
  },
  {
   "cell_type": "markdown",
   "metadata": {},
   "source": [
    "## 1. Determinar la distancia focal de la lente positiva auxiliar.\n",
    "\n",
    "La distancia focal de la lente positiva auxiliar se determino en una practica previa y se obtuvo un valor de $f_+ = 14.3 \\pm 0.6 \\, \\text{cm}$. Por medio de una regresión lineal de los datos del inverso de la posición del objeto y la posición de la imagen usando la ley de Gauss. Donde $y = \\frac{1}{s_i}$ y $x = \\frac{1}{s_o}$, se obtuvo un valor de $f_+ = 14.3 \\pm 0.6 \\, \\text{cm}$."
   ]
  },
  {
   "cell_type": "markdown",
   "metadata": {},
   "source": [
    "## 2. Determinar la distancia focal de la lente negativa."
   ]
  },
  {
   "cell_type": "markdown",
   "metadata": {},
   "source": [
    "Para cada posición de la imagen en la regla $p_i$ se realizaron a lo mas tres mediciones. Con estas mediciones se realiza a continuación el tratamiento estadístico de los datos."
   ]
  },
  {
   "cell_type": "markdown",
   "metadata": {},
   "source": [
    "#### Datos\n"
   ]
  },
  {
   "cell_type": "markdown",
   "metadata": {},
   "source": [
    "Se calcula la media y error de la posición de la imagen $p_i$ y luego se calcula la distancia del objeto a la lente negativa $s_o$ y la distancia de la imagen a la lente positiva $s_i$."
   ]
  },
  {
   "cell_type": "code",
   "execution_count": null,
   "metadata": {},
   "outputs": [],
   "source": [
    "nominal_s = .2  # cm\n",
    "\n",
    "Om = 600  # \\pm 2 mm\n",
    "Op = 710  # \\pm 2 mm\n",
    "\n",
    "# Datos test\n",
    "# Om = 0 #\\pm 2 mm\n",
    "# Op = 40 #\\pm 2 mm\n",
    "# p_o = np.array([-2, -2.1, -2.2, -2.3, -2.4, -2.5])\n",
    "# p_i_data = np.array([[6.1429], [6.1384], [6.1342], [6.1303], [6.1266], [6.1231]])\n",
    "\n",
    "p_o = np.array([29.9, 20.0, 33.0, 36.0, 39.0, 42.0, 45.0])  # cm\n",
    "p_i_data = [\n",
    "    [106.8, 107.4, 107.2],\n",
    "    [106.1, 105.9, 106.2],\n",
    "    [107.5, 107.6, 106.9],\n",
    "    [108.7, 107.6, 108.1],\n",
    "    [108.6, 108.4, 109.2, 109.0],\n",
    "    [109.4, 109.1, 109.6],\n",
    "    [110.8, 111.0, 110.8],\n",
    "]  # cm\n",
    "\n",
    "# Procesamiento de datos: calcular medias e incertidumbres\n",
    "si_means = []\n",
    "si_unc = []\n",
    "for measurements in p_i_data:\n",
    "    measurements = np.array(measurements)\n",
    "    # Eliminar outliers (valores > 200 cm)\n",
    "    if len(measurements) < 2:\n",
    "        std = 0\n",
    "    else:\n",
    "        std = np.std(measurements, ddof=1) / np.sqrt(\n",
    "            len(measurements)\n",
    "        )  # Incertidumbre nominal de ±0.2 cm\n",
    "    total_unc = np.sqrt(std**2 + nominal_s**2)\n",
    "    si_means.append(np.mean(measurements))\n",
    "    si_unc.append(total_unc)\n",
    "\n",
    "si_means = np.array(si_means)\n",
    "si_unc = np.array(si_unc)\n",
    "\n",
    "# Crear DataFrame\n",
    "df = pd.DataFrame({\"p_o (cm)\": p_o, \"p_i_mean (cm)\": si_means, \"p_i_unc (cm)\": si_unc})\n",
    "\n",
    "# Mostrar DataFrame\n",
    "print(df)\n",
    "\n",
    "# Uncertainties\n",
    "\n",
    "# Convertir a unidades de mm\n",
    "\n",
    "so = p_o * 10\n",
    "si_means = si_means * 10\n",
    "si_unc = si_unc*10\n",
    "\n",
    "po = unp.uarray(so, nominal_s*10)\n",
    "pi = unp.uarray(si_means, si_unc)\n",
    "\n",
    "so = po - Om\n",
    "si = pi - Op\n",
    "\n",
    "# Crear DataFrame\n",
    "\n",
    "df = pd.DataFrame({\"s_o (mm)\": so, \"s_i (mm)\": si})\n",
    "\n",
    "# Mostrar DataFrame\n",
    "\n",
    "print(df)"
   ]
  },
  {
   "cell_type": "markdown",
   "metadata": {},
   "source": [
    "se deriva la tabla resultante, compuesta de los promedios de las mediciones (usual) y la dispersión alrededor de la media calculada como:\n",
    "\n",
    "$$\n",
    "\\sigma(\\hat{\\mu}) = \\sigma(\\bar{x}) = \\frac{\\hat{\\sigma}}{\\sqrt{n}}\n",
    "$$\n"
   ]
  },
  {
   "cell_type": "markdown",
   "metadata": {},
   "source": [
    "#### Visualización de Datos ($y = 1/so$ vs $x= \\frac{-f_+ + s_{i_+}}{d (f_+-s_{i_+})+f s_{i_+}}$)\n"
   ]
  },
  {
   "cell_type": "markdown",
   "metadata": {},
   "source": [
    "Una vez se ha realizado el tratamiento de los datos, se procede a realizar la regresión lineal de los datos obtenidos. Se obtiene una relación lineal entre $y = \\frac{1}{s_o}$ y $x = \\frac{-f_+ + s_{i_+}}{d (f_+-s_{i_+})+f s_{i_+}}$. Como se puede ver en la sección de modelación teórica, la pendiente en teoría debería ser 1 y la ordenada al origen $-\\frac{1}{f_-}$."
   ]
  },
  {
   "cell_type": "code",
   "execution_count": null,
   "metadata": {},
   "outputs": [],
   "source": [
    "# test d = ufloat(40,0) #ufloat(15,0)\n",
    "# Separación entre lentes\n",
    "\n",
    "d = ufloat(110.0, 1)  # mm\n",
    "\n",
    "# distancia focal de la lente positiva auxiliar\n",
    "\n",
    "f_plus = ufloat(146, 3)  # mm\n",
    "\n",
    "# Transformaciones\n",
    "x = (f_plus - si) / (d * (f_plus - si) + f_plus * si)\n",
    "y = 1 / so\n",
    "x_nom = unp.nominal_values(x)\n",
    "y_nom = unp.nominal_values(y)\n",
    "x_unc = unp.std_devs(x)\n",
    "y_unc = unp.std_devs(y)\n",
    "\n",
    "# Plotting\n",
    "fig, ax = plot_template(\n",
    "    title=\"Formación de Imágenes - Lente Negativa y Positiva Auxiliar\",\n",
    "    x_label=r\"$x$ (cm$^{-1}$)\",\n",
    "    y_label=r\"Inverso $s_o$ (cm$^{-1}$)\",\n",
    ")\n",
    "\n",
    "# # Añadir ejes\n",
    "# ax.axhline(y=0, color=\"black\", linestyle=\"-\", linewidth=0.8)\n",
    "# ax.axvline(x=0, color=\"black\", linestyle=\"-\", linewidth=0.8)\n",
    "\n",
    "# Ajuste lineal\n",
    "r = stats.linregress(x_nom, y_nom)\n",
    "\n",
    "slope, intercept, slope_err, u_intercept = (\n",
    "    r.slope,\n",
    "    r.intercept,\n",
    "    r.stderr,\n",
    "    r.intercept_stderr,\n",
    ")\n",
    "\n",
    "r_value = r.rvalue\n",
    "\n",
    "# Graficar línea de regresión\n",
    "ax.plot(\n",
    "    x_nom,\n",
    "    slope * x_nom + intercept,\n",
    "    \"r--\",\n",
    "    label=f\"Regresión: y = {slope:.4f}x + {intercept:.4f}\",\n",
    ")\n",
    "\n",
    "# Graficar puntos con incertidumbre\n",
    "ax.errorbar(\n",
    "    x_nom,\n",
    "    y_nom,\n",
    "    xerr=x_unc,\n",
    "    yerr=y_unc,\n",
    "    fmt=\"o\",\n",
    "    color=\"blue\",\n",
    "    ecolor=\"lightgray\",\n",
    "    elinewidth=2,\n",
    "    capsize=0,\n",
    "\n",
    ")\n",
    "\n",
    "# Añadir texto con pendiente, intercepto y R²\n",
    "ax.text(\n",
    "    0.05, 0.85,  # Posición en coordenadas relativas (x, y)\n",
    "    f\"$R^2$: {r_value**2:.4f}\\nPendiente: {slope:.1f}  \\u00B1 {slope_err:.1f} ${{cm}}^{{-1}}$\\nIntercepto: {intercept:.2e} \\u00B1 {u_intercept:.1e} ${{cm}}^{{-1}}$\",\n",
    "    transform=ax.transAxes,\n",
    "    fontsize=12,\n",
    "    verticalalignment='top',\n",
    "    bbox=dict(facecolor=\"white\", alpha=0.8, edgecolor='black')\n",
    ")\n",
    "\n",
    "\n",
    "# Añadir leyenda\n",
    "ax.legend(fontsize=12)\n",
    "\n",
    "plt.show()\n",
    "\n",
    "# Cálculo de la distancia focal de la lente negativa\n",
    "d_nom = unp.nominal_values(d)  # cm, separación entre lentes\n",
    "f_plus_nom = unp.nominal_values(\n",
    "    f_plus\n",
    ")  # cm, distancia focal conocida de la lente positiva auxiliar\n",
    "\n",
    "\n",
    "f_minus = -(1 / intercept)\n",
    "# Propagación de incertidumbre para f_minus\n",
    "# δf_minus = δintercept / intercept^2\n",
    "delta_f_minus = u_intercept / intercept**2\n",
    "\n",
    "print(f\"Pendiente (m): {slope:.4f}4 cm^-1\")\n",
    "print(f\"Intercepto (b): {intercept:.4f} cm^-1\")\n",
    "print(f\"error en la pendiente: {slope_err:.4f} cm^-1\")\n",
    "print(f\"error en el intercepto: {u_intercept:.4f} cm^-1\")\n",
    "print(f\"Coeficiente de determinación (R²): {r_value**2:.4f}\")\n",
    "print(\n",
    "    f\"Distancia focal de la lente negativa f_- = {f_minus:.2f} ± {delta_f_minus:.2f} cm\"\n",
    ")"
   ]
  },
  {
   "cell_type": "markdown",
   "metadata": {},
   "source": [
    "Al realizar la regresión lineal se obtiene un valor de $f_- = -43.0 \\pm 2 \\, \\text{cm}$."
   ]
  },
  {
   "cell_type": "markdown",
   "metadata": {},
   "source": [
    "## Determinar la distancia focal de la lupa. El aumento medido y el aumento nominal en cuanto difieren. Explique por qu ́e se tiene esta diferencia."
   ]
  },
  {
   "cell_type": "markdown",
   "metadata": {},
   "source": [
    "Similar al caso anterior, se la regresión lineal de los datos obtenidos. Se obtiene una relación lineal entre $y = \\frac{1}{s_o}$ y $x = \\frac{-f_+ + s_{i_+}}{d (f_+-s_{i_+})+f s_{i_+}}$. Como se puede ver en la sección de modelación teórica, la pendiente en teoría debería ser 1 y la ordenada al origen $-\\frac{1}{f_-}$."
   ]
  },
  {
   "cell_type": "code",
   "execution_count": 95,
   "metadata": {},
   "outputs": [
    {
     "data": {
      "text/plain": [
       "(array([180.0+/-2.0, 170.0+/-2.0, 175.0+/-2.0, 165.0+/-2.0, 160.0+/-2.0,\n",
       "        155.0+/-2.0, 150.0+/-2.0], dtype=object),\n",
       " array([570.0+/-2.0, 375.0+/-2.0, 435.0+/-2.0, 296.0+/-2.0, 251.0+/-2.0,\n",
       "        213.0+/-2.0, 190.0+/-2.0], dtype=object),\n",
       " array([0.005555555555555556+/-6.17283950617284e-05,\n",
       "        0.0058823529411764705+/-6.920415224913495e-05,\n",
       "        0.005714285714285714+/-6.530612244897959e-05,\n",
       "        0.006060606060606061+/-7.346189164370983e-05, 0.00625+/-7.8125e-05,\n",
       "        0.0064516129032258064+/-8.324661810613944e-05,\n",
       "        0.006666666666666667+/-8.888888888888889e-05], dtype=object))"
      ]
     },
     "execution_count": 95,
     "metadata": {},
     "output_type": "execute_result"
    }
   ],
   "source": [
    "nominal_s = 2 # mm\n",
    "\n",
    "# Posiciones de la lupa y la lente positiva auxiliar en la regla respectivamente\n",
    "Opp = 820 \n",
    "Op = 920\n",
    "\n",
    "# Posiciones del objeto y la imagen en la regla respectivamente\n",
    "pi = [149.0, 129.5, 135.5, 121.6, 117.1, 113.3, 111]\n",
    "po = [78,\n",
    "      77,\n",
    "      77.5,\n",
    "      76.5,\n",
    "      76,\n",
    "      75.5,\n",
    "      75]\n",
    "\n",
    "#altura del objeto y la imagen\n",
    "ho = .82 #cm\n",
    "hi = np.array([6.7,\n",
    "      3.8,\n",
    "      4.5,\n",
    "      3.1,\n",
    "      2.5,\n",
    "      2.2,\n",
    "      1.9,\n",
    "      1.7])#cm\n",
    "\n",
    "\n",
    "so = p_o * 10\n",
    "\n",
    "po = unp.uarray(np.array(po)*10, nominal_s)\n",
    "pi = unp.uarray(np.array(pi)*10, nominal_s)\n",
    "\n",
    "so = po - Om\n",
    "si = pi - Op\n",
    "\n",
    "so, si, 1/so\n"
   ]
  },
  {
   "cell_type": "code",
   "execution_count": 92,
   "metadata": {},
   "outputs": [
    {
     "data": {
      "image/png": "[encoded data removed]",
      "text/plain": [
       "<Figure size 1000x600 with 1 Axes>"
      ]
     },
     "metadata": {},
     "output_type": "display_data"
    },
    {
     "name": "stdout",
     "output_type": "stream",
     "text": [
      "Pendiente (m): 0.11204 mm^-1\n",
      "Intercepto (b): 0.0068 mm^-1\n",
      "error en la pendiente: 0.0090 mm^-1\n",
      "error en el intercepto: 0.0001 mm^-1\n",
      "Coeficiente de determinación (R²): 0.9684\n",
      "Distancia focal de la lente negativa f_l = -147.69 ± 1.37 mm\n"
     ]
    }
   ],
   "source": [
    "# test d = ufloat(40,0) #ufloat(15,0)\n",
    "# Separación entre lentes\n",
    "\n",
    "d = ufloat(110.0, 1)  # mm\n",
    "\n",
    "# distancia focal de la lente positiva auxiliar\n",
    "\n",
    "f_plus = ufloat(146, 3)  # mm\n",
    "\n",
    "# Transformaciones\n",
    "x = (f_plus - si) / (d * (f_plus - si) + f_plus * si)\n",
    "y = 1 / so\n",
    "x_nom = unp.nominal_values(x)\n",
    "y_nom = unp.nominal_values(y)\n",
    "x_unc = unp.std_devs(x)\n",
    "y_unc = unp.std_devs(y)\n",
    "\n",
    "# Plotting\n",
    "fig, ax = plot_template(\n",
    "    title=\"Formación de Imágenes - Lupa y Positiva Auxiliar\",\n",
    "    x_label=r\"$x$ (mm$^{-1}$)\",\n",
    "    y_label=r\"Inverso $s_o$ (mm$^{-1}$)\",\n",
    ")\n",
    "\n",
    "# # Añadir ejes\n",
    "# ax.axhline(y=0, color=\"black\", linestyle=\"-\", linewidth=0.8)\n",
    "# ax.axvline(x=0, color=\"black\", linestyle=\"-\", linewidth=0.8)\n",
    "\n",
    "# Ajuste lineal\n",
    "r = stats.linregress(x_nom, y_nom)\n",
    "\n",
    "slope, intercept, slope_err, u_intercept = (\n",
    "    r.slope,\n",
    "    r.intercept,\n",
    "    r.stderr,\n",
    "    r.intercept_stderr,\n",
    ")\n",
    "\n",
    "r_value = r.rvalue\n",
    "\n",
    "# Graficar línea de regresión\n",
    "ax.plot(\n",
    "    x_nom,\n",
    "    slope * x_nom + intercept,\n",
    "    \"r--\",\n",
    "    label=f\"Regresión: y = {slope:.4f}x + {intercept:.4f}\",\n",
    ")\n",
    "\n",
    "# Graficar puntos con incertidumbre\n",
    "ax.errorbar(\n",
    "    x_nom,\n",
    "    y_nom,\n",
    "    xerr=x_unc,\n",
    "    yerr=y_unc,\n",
    "    fmt=\"o\",\n",
    "    color=\"blue\",\n",
    "    ecolor=\"lightgray\",\n",
    "    elinewidth=2,\n",
    "    capsize=0,\n",
    "\n",
    ")\n",
    "\n",
    "# Añadir texto con pendiente, intercepto y R²\n",
    "ax.text(\n",
    "    0.05, 0.85,  # Posición en coordenadas relativas (x, y)\n",
    "    f\"$R^2$: {r_value**2:.4f}\\nPendiente: {slope:.1f}  \\u00B1 {slope_err:.1f} ${{mm}}^{{-1}}$\\nIntercepto: {intercept:.2e} \\u00B1 {u_intercept:.1e} ${{mm}}^{{-1}}$\",\n",
    "    transform=ax.transAxes,\n",
    "    fontsize=12,\n",
    "    verticalalignment='top',\n",
    "    bbox=dict(facecolor=\"white\", alpha=0.8, edgecolor='black')\n",
    ")\n",
    "\n",
    "\n",
    "# Añadir leyenda\n",
    "ax.legend(fontsize=12)\n",
    "\n",
    "plt.show()\n",
    "\n",
    "# Cálculo de la distancia focal de la lente negativa\n",
    "d_nom = unp.nominal_values(d)  # cm, separación entre lentes\n",
    "f_plus_nom = unp.nominal_values(\n",
    "    f_plus\n",
    ")  # cm, distancia focal conocida de la lente positiva auxiliar\n",
    "\n",
    "\n",
    "f_minus = -(1 / intercept)\n",
    "# Propagación de incertidumbre para f_minus\n",
    "# δf_minus = δintercept / intercept^2\n",
    "delta_f_minus = u_intercept / intercept**2\n",
    "\n",
    "print(f\"Pendiente (m): {slope:.4f}4 mm^-1\")\n",
    "print(f\"Intercepto (b): {intercept:.4f} mm^-1\")\n",
    "print(f\"error en la pendiente: {slope_err:.4f} mm^-1\")\n",
    "print(f\"error en el intercepto: {u_intercept:.4f} mm^-1\")\n",
    "print(f\"Coeficiente de determinación (R²): {r_value**2:.4f}\")\n",
    "print(\n",
    "    f\"Distancia focal de la lente negativa f_l = {f_minus:.2f} ± {delta_f_minus:.2f} mm\"\n",
    ")"
   ]
  },
  {
   "cell_type": "markdown",
   "metadata": {},
   "source": [
    "Se encontró que el foco de la lupa es de $f_l=-147.7 \\pm 2$ debe ser el valor negativo del foco de la lente positiva. Este valor negativo obtenido para la lupa se puede explicar debido a que nuestro modelo no puede distinguir si la imagen virtual es producida por una lente positiva o por una lente negativa. Por lo tanto el foco de la lente positiva actuando como lupa es $f_l = 147.7 \\pm 2$."
   ]
  },
  {
   "cell_type": "markdown",
   "metadata": {},
   "source": [
    "### Calculo de aumento medido\n",
    "\n",
    "Dado que tenemos varios valores de la altura de la imagen $h_i$ y la altura del objeto $h_o$, se realizar un tratamiento estadístico de estos datos para obtener el aumento medido."
   ]
  },
  {
   "cell_type": "code",
   "execution_count": 102,
   "metadata": {},
   "outputs": [
    {
     "data": {
      "text/plain": [
       "(array([8.17073171, 4.63414634, 5.48780488, 3.7804878 , 3.04878049,\n",
       "        2.68292683, 2.31707317, 2.07317073]),\n",
       " 4.024390243902439,\n",
       " 2.046200258424862)"
      ]
     },
     "execution_count": 102,
     "metadata": {},
     "output_type": "execute_result"
    }
   ],
   "source": [
    "# Cálculo de la magnificación\n",
    "\n",
    "m = hi / ho\n",
    "\n",
    "std_m = np.std(m, ddof=1)\n",
    "\n",
    "m_mean = np.mean(m) \n",
    "\n",
    "error = np.sqrt(std_m**2 + (.1)**2)\n",
    "\n",
    "m, m_mean,error"
   ]
  },
  {
   "cell_type": "markdown",
   "metadata": {},
   "source": [
    "Obtenemos un valor de $m_t = 4.0 \\pm 2$ cm."
   ]
  },
  {
   "cell_type": "markdown",
   "metadata": {},
   "source": [
    "# Conclusiones\n"
   ]
  },
  {
   "cell_type": "markdown",
   "metadata": {},
   "source": [
    "## Acerca de las preguntas\n"
   ]
  },
  {
   "cell_type": "markdown",
   "metadata": {},
   "source": []
  },
  {
   "cell_type": "markdown",
   "metadata": {},
   "source": [
    "De los diferentes métodos probados y explicados en esta práctica experimental, los cuáles a partir de parámetros únicos del lente conducen a la caracterización de lentes, el foco, los resultados se resúmen a continuación:\n",
    "\n",
    "| Parte | Foco $[\\text{mm} ]$ |\n",
    "| ----- | ------------------- |\n",
    "| 1     | $146.3 \\pm 0.6$     |\n",
    "| 2     | $145 \\pm 2$         |\n",
    "| 3     | $142 \\pm 2$         |\n",
    "| 4     | $165 \\pm 2$         |\n",
    "\n",
    "A pesar de que este **método gráfico (1)** no logra tener en cuenta exactamente la propagación de la incertidumbre de las mediciones, **se aprecia que fue el método más preciso de todos**, siendo el más separado del esperado el último de todos. Además, en el primer método, se pudo apreciar de mejor manera el comportamiento posible del fenómeno y caracterizar varios ajustes probables que coincidan con los resultados esperados. Aquí se aprecia igualmente que dado que los resultados de cada método varían del milímetro, podemos tener _total certidumbre del foco en 14 cm._\n"
   ]
  },
  {
   "cell_type": "markdown",
   "metadata": {},
   "source": [
    "## Referencias\n",
    "\n",
    "Mejía Barbosa, Y. (2020). Fundamentos de óptica : Curso introductorio. Universidad Nacional de Colombia. Facultad de Ciencias.\n",
    "\n",
    "[David Manteallano - Sistema de dos lentes positivas](https://www.geogebra.org/m/S23Kf563)\n"
   ]
  }
 ],
 "metadata": {
  "kernelspec": {
   "display_name": "Python 3",
   "language": "python",
   "name": "python3"
  },
  "language_info": {
   "codemirror_mode": {
    "name": "ipython",
    "version": 3
   },
   "file_extension": ".py",
   "mimetype": "text/x-python",
   "name": "python",
   "nbconvert_exporter": "python",
   "pygments_lexer": "ipython3",
   "version": "3.12.1"
  }
 },
 "nbformat": 4,
 "nbformat_minor": 2
}
